{
  "nbformat": 4,
  "nbformat_minor": 0,
  "metadata": {
    "colab": {
      "name": "Sentiment_Analysis.ipynb",
      "provenance": [],
      "collapsed_sections": []
    },
    "kernelspec": {
      "name": "python3",
      "display_name": "Python 3"
    }
  },
  "cells": [
    {
      "cell_type": "code",
      "metadata": {
        "id": "LBunZqXId8oH"
      },
      "source": [
        "import numpy as np \r\n",
        "import pandas as pd \r\n",
        "import seaborn as sns \r\n",
        "import matplotlib.pyplot as plt\r\n",
        "\r\n",
        "from keras.models import Model, Sequential\r\n",
        "from keras.layers import Dense, Input, Dropout, LSTM, Activation\r\n",
        "from keras.layers import Bidirectional, GlobalMaxPool1D\r\n",
        "from keras.layers.embeddings import Embedding\r\n",
        "from keras.preprocessing import sequence\r\n",
        "from keras.initializers import glorot_uniform"
      ],
      "execution_count": 196,
      "outputs": []
    },
    {
      "cell_type": "code",
      "metadata": {
        "id": "hEDZE_uoegwn"
      },
      "source": [
        "train = pd.read_csv('/content/Train.csv')\r\n",
        "test = pd.read_csv('/content/Test.csv')"
      ],
      "execution_count": 197,
      "outputs": []
    },
    {
      "cell_type": "code",
      "metadata": {
        "colab": {
          "base_uri": "https://localhost:8080/",
          "height": 935
        },
        "id": "7FZ_d0mKepet",
        "outputId": "f3858b12-32cd-4ed9-dec1-d4a849a18a55"
      },
      "source": [
        "train.head(30)"
      ],
      "execution_count": 198,
      "outputs": [
        {
          "output_type": "execute_result",
          "data": {
            "text/html": [
              "<div>\n",
              "<style scoped>\n",
              "    .dataframe tbody tr th:only-of-type {\n",
              "        vertical-align: middle;\n",
              "    }\n",
              "\n",
              "    .dataframe tbody tr th {\n",
              "        vertical-align: top;\n",
              "    }\n",
              "\n",
              "    .dataframe thead th {\n",
              "        text-align: right;\n",
              "    }\n",
              "</style>\n",
              "<table border=\"1\" class=\"dataframe\">\n",
              "  <thead>\n",
              "    <tr style=\"text-align: right;\">\n",
              "      <th></th>\n",
              "      <th>ID</th>\n",
              "      <th>content</th>\n",
              "      <th>score</th>\n",
              "    </tr>\n",
              "  </thead>\n",
              "  <tbody>\n",
              "    <tr>\n",
              "      <th>0</th>\n",
              "      <td>65479</td>\n",
              "      <td>Revoyez vos prix ainsi que la lenteur ke prend...</td>\n",
              "      <td>0</td>\n",
              "    </tr>\n",
              "    <tr>\n",
              "      <th>1</th>\n",
              "      <td>84256</td>\n",
              "      <td>تجربة ممتازة وشيقة فعلا تعاملاتهم محترمة ماعدا...</td>\n",
              "      <td>1</td>\n",
              "    </tr>\n",
              "    <tr>\n",
              "      <th>2</th>\n",
              "      <td>31581</td>\n",
              "      <td>دفو على نصابين</td>\n",
              "      <td>-1</td>\n",
              "    </tr>\n",
              "    <tr>\n",
              "      <th>3</th>\n",
              "      <td>58926</td>\n",
              "      <td>J arriver à temps et malheureusement je me  re...</td>\n",
              "      <td>1</td>\n",
              "    </tr>\n",
              "    <tr>\n",
              "      <th>4</th>\n",
              "      <td>17945</td>\n",
              "      <td>Je suis contente des services rendu par Jumia....</td>\n",
              "      <td>1</td>\n",
              "    </tr>\n",
              "    <tr>\n",
              "      <th>5</th>\n",
              "      <td>16619</td>\n",
              "      <td>Cest du merd</td>\n",
              "      <td>-1</td>\n",
              "    </tr>\n",
              "    <tr>\n",
              "      <th>6</th>\n",
              "      <td>20287</td>\n",
              "      <td>...i kit ouiiiii in Italia ju lik le Oui on se...</td>\n",
              "      <td>1</td>\n",
              "    </tr>\n",
              "    <tr>\n",
              "      <th>7</th>\n",
              "      <td>21687</td>\n",
              "      <td>Je rêve de recevoirs un cadeau venant de jumia...</td>\n",
              "      <td>1</td>\n",
              "    </tr>\n",
              "    <tr>\n",
              "      <th>8</th>\n",
              "      <td>138307</td>\n",
              "      <td>efficace mais lourde manipulation</td>\n",
              "      <td>0</td>\n",
              "    </tr>\n",
              "    <tr>\n",
              "      <th>9</th>\n",
              "      <td>28742</td>\n",
              "      <td>bian</td>\n",
              "      <td>1</td>\n",
              "    </tr>\n",
              "    <tr>\n",
              "      <th>10</th>\n",
              "      <td>66977</td>\n",
              "      <td>Réseau passable</td>\n",
              "      <td>0</td>\n",
              "    </tr>\n",
              "    <tr>\n",
              "      <th>11</th>\n",
              "      <td>72203</td>\n",
              "      <td>nais</td>\n",
              "      <td>1</td>\n",
              "    </tr>\n",
              "    <tr>\n",
              "      <th>12</th>\n",
              "      <td>83261</td>\n",
              "      <td>اجمل تطبيق في العالم العربي</td>\n",
              "      <td>1</td>\n",
              "    </tr>\n",
              "    <tr>\n",
              "      <th>13</th>\n",
              "      <td>6241</td>\n",
              "      <td>Pas mal, beaucoup de choix. Je trouve que le s...</td>\n",
              "      <td>1</td>\n",
              "    </tr>\n",
              "    <tr>\n",
              "      <th>14</th>\n",
              "      <td>25602</td>\n",
              "      <td>Merci et bon courage</td>\n",
              "      <td>1</td>\n",
              "    </tr>\n",
              "    <tr>\n",
              "      <th>15</th>\n",
              "      <td>88486</td>\n",
              "      <td>أحلى تطبيق للتسوق</td>\n",
              "      <td>1</td>\n",
              "    </tr>\n",
              "    <tr>\n",
              "      <th>16</th>\n",
              "      <td>71570</td>\n",
              "      <td>Grttg</td>\n",
              "      <td>-1</td>\n",
              "    </tr>\n",
              "    <tr>\n",
              "      <th>17</th>\n",
              "      <td>4484</td>\n",
              "      <td>6 ans de fidélité. Bon service</td>\n",
              "      <td>1</td>\n",
              "    </tr>\n",
              "    <tr>\n",
              "      <th>18</th>\n",
              "      <td>65434</td>\n",
              "      <td>Très genial cet applik</td>\n",
              "      <td>1</td>\n",
              "    </tr>\n",
              "    <tr>\n",
              "      <th>19</th>\n",
              "      <td>18004</td>\n",
              "      <td>Tres bien pour le moment</td>\n",
              "      <td>1</td>\n",
              "    </tr>\n",
              "    <tr>\n",
              "      <th>20</th>\n",
              "      <td>14769</td>\n",
              "      <td>Merci cest cool</td>\n",
              "      <td>1</td>\n",
              "    </tr>\n",
              "    <tr>\n",
              "      <th>21</th>\n",
              "      <td>123143</td>\n",
              "      <td>Application qui bug, offres darnaque, arnaque,...</td>\n",
              "      <td>-1</td>\n",
              "    </tr>\n",
              "    <tr>\n",
              "      <th>22</th>\n",
              "      <td>55269</td>\n",
              "      <td>Great job</td>\n",
              "      <td>1</td>\n",
              "    </tr>\n",
              "    <tr>\n",
              "      <th>23</th>\n",
              "      <td>90018</td>\n",
              "      <td>جميل جدا ومميز</td>\n",
              "      <td>1</td>\n",
              "    </tr>\n",
              "    <tr>\n",
              "      <th>24</th>\n",
              "      <td>140516</td>\n",
              "      <td>3laah kol nhar nharin mis à jour</td>\n",
              "      <td>-1</td>\n",
              "    </tr>\n",
              "    <tr>\n",
              "      <th>25</th>\n",
              "      <td>109486</td>\n",
              "      <td>تطبيق ممتاز وشركة محترمة</td>\n",
              "      <td>1</td>\n",
              "    </tr>\n",
              "    <tr>\n",
              "      <th>26</th>\n",
              "      <td>138975</td>\n",
              "      <td>وهمي</td>\n",
              "      <td>1</td>\n",
              "    </tr>\n",
              "    <tr>\n",
              "      <th>27</th>\n",
              "      <td>98016</td>\n",
              "      <td>الشكر</td>\n",
              "      <td>1</td>\n",
              "    </tr>\n",
              "    <tr>\n",
              "      <th>28</th>\n",
              "      <td>33282</td>\n",
              "      <td>Niiice</td>\n",
              "      <td>1</td>\n",
              "    </tr>\n",
              "    <tr>\n",
              "      <th>29</th>\n",
              "      <td>25805</td>\n",
              "      <td>Cordialement a cette citee historiques de JUMI...</td>\n",
              "      <td>1</td>\n",
              "    </tr>\n",
              "  </tbody>\n",
              "</table>\n",
              "</div>"
            ],
            "text/plain": [
              "        ID                                            content  score\n",
              "0    65479  Revoyez vos prix ainsi que la lenteur ke prend...      0\n",
              "1    84256  تجربة ممتازة وشيقة فعلا تعاملاتهم محترمة ماعدا...      1\n",
              "2    31581                                     دفو على نصابين     -1\n",
              "3    58926  J arriver à temps et malheureusement je me  re...      1\n",
              "4    17945  Je suis contente des services rendu par Jumia....      1\n",
              "5    16619                                       Cest du merd     -1\n",
              "6    20287  ...i kit ouiiiii in Italia ju lik le Oui on se...      1\n",
              "7    21687  Je rêve de recevoirs un cadeau venant de jumia...      1\n",
              "8   138307                  efficace mais lourde manipulation      0\n",
              "9    28742                                               bian      1\n",
              "10   66977                                    Réseau passable      0\n",
              "11   72203                                               nais      1\n",
              "12   83261                        اجمل تطبيق في العالم العربي      1\n",
              "13    6241  Pas mal, beaucoup de choix. Je trouve que le s...      1\n",
              "14   25602                               Merci et bon courage      1\n",
              "15   88486                                  أحلى تطبيق للتسوق      1\n",
              "16   71570                                              Grttg     -1\n",
              "17    4484                     6 ans de fidélité. Bon service      1\n",
              "18   65434                             Très genial cet applik      1\n",
              "19   18004                           Tres bien pour le moment      1\n",
              "20   14769                                    Merci cest cool      1\n",
              "21  123143  Application qui bug, offres darnaque, arnaque,...     -1\n",
              "22   55269                                          Great job      1\n",
              "23   90018                                     جميل جدا ومميز      1\n",
              "24  140516                   3laah kol nhar nharin mis à jour     -1\n",
              "25  109486                           تطبيق ممتاز وشركة محترمة      1\n",
              "26  138975                                               وهمي      1\n",
              "27   98016                                              الشكر      1\n",
              "28   33282                                             Niiice      1\n",
              "29   25805  Cordialement a cette citee historiques de JUMI...      1"
            ]
          },
          "metadata": {
            "tags": []
          },
          "execution_count": 198
        }
      ]
    },
    {
      "cell_type": "code",
      "metadata": {
        "colab": {
          "base_uri": "https://localhost:8080/",
          "height": 195
        },
        "id": "tWN0tPcefbvi",
        "outputId": "27a1747e-e0a0-456b-811f-18697136afd3"
      },
      "source": [
        "train.tail()"
      ],
      "execution_count": 199,
      "outputs": [
        {
          "output_type": "execute_result",
          "data": {
            "text/html": [
              "<div>\n",
              "<style scoped>\n",
              "    .dataframe tbody tr th:only-of-type {\n",
              "        vertical-align: middle;\n",
              "    }\n",
              "\n",
              "    .dataframe tbody tr th {\n",
              "        vertical-align: top;\n",
              "    }\n",
              "\n",
              "    .dataframe thead th {\n",
              "        text-align: right;\n",
              "    }\n",
              "</style>\n",
              "<table border=\"1\" class=\"dataframe\">\n",
              "  <thead>\n",
              "    <tr style=\"text-align: right;\">\n",
              "      <th></th>\n",
              "      <th>ID</th>\n",
              "      <th>content</th>\n",
              "      <th>score</th>\n",
              "    </tr>\n",
              "  </thead>\n",
              "  <tbody>\n",
              "    <tr>\n",
              "      <th>59403</th>\n",
              "      <td>135040</td>\n",
              "      <td>Dès que le dernier mise à jour lapplication ne...</td>\n",
              "      <td>-1</td>\n",
              "    </tr>\n",
              "    <tr>\n",
              "      <th>59404</th>\n",
              "      <td>121114</td>\n",
              "      <td>Magnifique application</td>\n",
              "      <td>1</td>\n",
              "    </tr>\n",
              "    <tr>\n",
              "      <th>59405</th>\n",
              "      <td>59947</td>\n",
              "      <td>Je valide cette application</td>\n",
              "      <td>1</td>\n",
              "    </tr>\n",
              "    <tr>\n",
              "      <th>59406</th>\n",
              "      <td>81802</td>\n",
              "      <td>تطبيق زباله علبه فول ب9جنيه ولسه خدمه الشحن ب5...</td>\n",
              "      <td>-1</td>\n",
              "    </tr>\n",
              "    <tr>\n",
              "      <th>59407</th>\n",
              "      <td>79448</td>\n",
              "      <td>لو سمحتو انا عملت اوردر .دراى فوود كلاب.12 ك.....</td>\n",
              "      <td>1</td>\n",
              "    </tr>\n",
              "  </tbody>\n",
              "</table>\n",
              "</div>"
            ],
            "text/plain": [
              "           ID                                            content  score\n",
              "59403  135040  Dès que le dernier mise à jour lapplication ne...     -1\n",
              "59404  121114                             Magnifique application      1\n",
              "59405   59947                        Je valide cette application      1\n",
              "59406   81802  تطبيق زباله علبه فول ب9جنيه ولسه خدمه الشحن ب5...     -1\n",
              "59407   79448  لو سمحتو انا عملت اوردر .دراى فوود كلاب.12 ك.....      1"
            ]
          },
          "metadata": {
            "tags": []
          },
          "execution_count": 199
        }
      ]
    },
    {
      "cell_type": "code",
      "metadata": {
        "colab": {
          "base_uri": "https://localhost:8080/"
        },
        "id": "Iwy-_YNAevOR",
        "outputId": "6771b70d-78a0-4162-ae6e-6cac762d144b"
      },
      "source": [
        "train.score.value_counts()"
      ],
      "execution_count": 200,
      "outputs": [
        {
          "output_type": "execute_result",
          "data": {
            "text/plain": [
              " 1    38797\n",
              "-1    16057\n",
              " 0     4554\n",
              "Name: score, dtype: int64"
            ]
          },
          "metadata": {
            "tags": []
          },
          "execution_count": 200
        }
      ]
    },
    {
      "cell_type": "code",
      "metadata": {
        "colab": {
          "base_uri": "https://localhost:8080/"
        },
        "id": "67_Ah0U5ezCV",
        "outputId": "402d3ca0-0f24-435f-878b-f5ea6c164ae7"
      },
      "source": [
        "train.shape"
      ],
      "execution_count": 201,
      "outputs": [
        {
          "output_type": "execute_result",
          "data": {
            "text/plain": [
              "(59408, 3)"
            ]
          },
          "metadata": {
            "tags": []
          },
          "execution_count": 201
        }
      ]
    },
    {
      "cell_type": "code",
      "metadata": {
        "colab": {
          "base_uri": "https://localhost:8080/"
        },
        "id": "kvYwiFQSfTGU",
        "outputId": "6f327b90-06c8-4ad0-b82e-9dfbbaa40575"
      },
      "source": [
        "test.shape"
      ],
      "execution_count": 202,
      "outputs": [
        {
          "output_type": "execute_result",
          "data": {
            "text/plain": [
              "(19803, 2)"
            ]
          },
          "metadata": {
            "tags": []
          },
          "execution_count": 202
        }
      ]
    },
    {
      "cell_type": "code",
      "metadata": {
        "id": "QNJ23JXqnwha"
      },
      "source": [
        "train['len_text'] = train.content.apply(len)"
      ],
      "execution_count": 203,
      "outputs": []
    },
    {
      "cell_type": "code",
      "metadata": {
        "colab": {
          "base_uri": "https://localhost:8080/"
        },
        "id": "Pxq72DT_n9wJ",
        "outputId": "ccc30005-5e25-4a5e-8529-19965609ae96"
      },
      "source": [
        "train.len_text.max()"
      ],
      "execution_count": 204,
      "outputs": [
        {
          "output_type": "execute_result",
          "data": {
            "text/plain": [
              "1855"
            ]
          },
          "metadata": {
            "tags": []
          },
          "execution_count": 204
        }
      ]
    },
    {
      "cell_type": "code",
      "metadata": {
        "colab": {
          "base_uri": "https://localhost:8080/"
        },
        "id": "qbxi0bYmjo9R",
        "outputId": "01f473a7-2e92-4d0d-cf28-9bb4eab9076c"
      },
      "source": [
        "import string\r\n",
        "alphabet_string = string.ascii_lowercase\r\n",
        "alphabet_list = list(alphabet_string)\r\n",
        "alphabet_list"
      ],
      "execution_count": 205,
      "outputs": [
        {
          "output_type": "execute_result",
          "data": {
            "text/plain": [
              "['a',\n",
              " 'b',\n",
              " 'c',\n",
              " 'd',\n",
              " 'e',\n",
              " 'f',\n",
              " 'g',\n",
              " 'h',\n",
              " 'i',\n",
              " 'j',\n",
              " 'k',\n",
              " 'l',\n",
              " 'm',\n",
              " 'n',\n",
              " 'o',\n",
              " 'p',\n",
              " 'q',\n",
              " 'r',\n",
              " 's',\n",
              " 't',\n",
              " 'u',\n",
              " 'v',\n",
              " 'w',\n",
              " 'x',\n",
              " 'y',\n",
              " 'z']"
            ]
          },
          "metadata": {
            "tags": []
          },
          "execution_count": 205
        }
      ]
    },
    {
      "cell_type": "code",
      "metadata": {
        "id": "z0SFAQlbf0wy"
      },
      "source": [
        "#fonction pour séparer les textes\r\n",
        "#language arabe ou francaise\r\n",
        "def sep_lang(text):\r\n",
        "  list_word = text.split()\r\n",
        "  if len(list_word)  >= 1 :\r\n",
        "    first_word = list_word[0]\r\n",
        "    for k in range(len(first_word)):\r\n",
        "      if first_word[k].lower() in alphabet_list:\r\n",
        "        #text maktoub bel francais\r\n",
        "        return 1\r\n",
        "    #text maktoub bel arbi    \r\n",
        "    return 2\r\n",
        "  return 0\r\n",
        "\r\n",
        "  \r\n"
      ],
      "execution_count": 206,
      "outputs": []
    },
    {
      "cell_type": "code",
      "metadata": {
        "id": "klNorQdWmFLp"
      },
      "source": [
        "train['lang'] = train['content'].apply(sep_lang)"
      ],
      "execution_count": 207,
      "outputs": []
    },
    {
      "cell_type": "code",
      "metadata": {
        "colab": {
          "base_uri": "https://localhost:8080/",
          "height": 343
        },
        "id": "2N2CHsisfVUs",
        "outputId": "6344d688-3dbf-41ab-f330-4dad1d591a2f"
      },
      "source": [
        "train.head(10)"
      ],
      "execution_count": 208,
      "outputs": [
        {
          "output_type": "execute_result",
          "data": {
            "text/html": [
              "<div>\n",
              "<style scoped>\n",
              "    .dataframe tbody tr th:only-of-type {\n",
              "        vertical-align: middle;\n",
              "    }\n",
              "\n",
              "    .dataframe tbody tr th {\n",
              "        vertical-align: top;\n",
              "    }\n",
              "\n",
              "    .dataframe thead th {\n",
              "        text-align: right;\n",
              "    }\n",
              "</style>\n",
              "<table border=\"1\" class=\"dataframe\">\n",
              "  <thead>\n",
              "    <tr style=\"text-align: right;\">\n",
              "      <th></th>\n",
              "      <th>ID</th>\n",
              "      <th>content</th>\n",
              "      <th>score</th>\n",
              "      <th>len_text</th>\n",
              "      <th>lang</th>\n",
              "    </tr>\n",
              "  </thead>\n",
              "  <tbody>\n",
              "    <tr>\n",
              "      <th>0</th>\n",
              "      <td>65479</td>\n",
              "      <td>Revoyez vos prix ainsi que la lenteur ke prend...</td>\n",
              "      <td>0</td>\n",
              "      <td>68</td>\n",
              "      <td>1</td>\n",
              "    </tr>\n",
              "    <tr>\n",
              "      <th>1</th>\n",
              "      <td>84256</td>\n",
              "      <td>تجربة ممتازة وشيقة فعلا تعاملاتهم محترمة ماعدا...</td>\n",
              "      <td>1</td>\n",
              "      <td>71</td>\n",
              "      <td>2</td>\n",
              "    </tr>\n",
              "    <tr>\n",
              "      <th>2</th>\n",
              "      <td>31581</td>\n",
              "      <td>دفو على نصابين</td>\n",
              "      <td>-1</td>\n",
              "      <td>14</td>\n",
              "      <td>2</td>\n",
              "    </tr>\n",
              "    <tr>\n",
              "      <th>3</th>\n",
              "      <td>58926</td>\n",
              "      <td>J arriver à temps et malheureusement je me  re...</td>\n",
              "      <td>1</td>\n",
              "      <td>166</td>\n",
              "      <td>1</td>\n",
              "    </tr>\n",
              "    <tr>\n",
              "      <th>4</th>\n",
              "      <td>17945</td>\n",
              "      <td>Je suis contente des services rendu par Jumia....</td>\n",
              "      <td>1</td>\n",
              "      <td>93</td>\n",
              "      <td>1</td>\n",
              "    </tr>\n",
              "    <tr>\n",
              "      <th>5</th>\n",
              "      <td>16619</td>\n",
              "      <td>Cest du merd</td>\n",
              "      <td>-1</td>\n",
              "      <td>12</td>\n",
              "      <td>1</td>\n",
              "    </tr>\n",
              "    <tr>\n",
              "      <th>6</th>\n",
              "      <td>20287</td>\n",
              "      <td>...i kit ouiiiii in Italia ju lik le Oui on se...</td>\n",
              "      <td>1</td>\n",
              "      <td>75</td>\n",
              "      <td>1</td>\n",
              "    </tr>\n",
              "    <tr>\n",
              "      <th>7</th>\n",
              "      <td>21687</td>\n",
              "      <td>Je rêve de recevoirs un cadeau venant de jumia...</td>\n",
              "      <td>1</td>\n",
              "      <td>66</td>\n",
              "      <td>1</td>\n",
              "    </tr>\n",
              "    <tr>\n",
              "      <th>8</th>\n",
              "      <td>138307</td>\n",
              "      <td>efficace mais lourde manipulation</td>\n",
              "      <td>0</td>\n",
              "      <td>33</td>\n",
              "      <td>1</td>\n",
              "    </tr>\n",
              "    <tr>\n",
              "      <th>9</th>\n",
              "      <td>28742</td>\n",
              "      <td>bian</td>\n",
              "      <td>1</td>\n",
              "      <td>4</td>\n",
              "      <td>1</td>\n",
              "    </tr>\n",
              "  </tbody>\n",
              "</table>\n",
              "</div>"
            ],
            "text/plain": [
              "       ID                                            content  ...  len_text  lang\n",
              "0   65479  Revoyez vos prix ainsi que la lenteur ke prend...  ...        68     1\n",
              "1   84256  تجربة ممتازة وشيقة فعلا تعاملاتهم محترمة ماعدا...  ...        71     2\n",
              "2   31581                                     دفو على نصابين  ...        14     2\n",
              "3   58926  J arriver à temps et malheureusement je me  re...  ...       166     1\n",
              "4   17945  Je suis contente des services rendu par Jumia....  ...        93     1\n",
              "5   16619                                       Cest du merd  ...        12     1\n",
              "6   20287  ...i kit ouiiiii in Italia ju lik le Oui on se...  ...        75     1\n",
              "7   21687  Je rêve de recevoirs un cadeau venant de jumia...  ...        66     1\n",
              "8  138307                  efficace mais lourde manipulation  ...        33     1\n",
              "9   28742                                               bian  ...         4     1\n",
              "\n",
              "[10 rows x 5 columns]"
            ]
          },
          "metadata": {
            "tags": []
          },
          "execution_count": 208
        }
      ]
    },
    {
      "cell_type": "code",
      "metadata": {
        "colab": {
          "base_uri": "https://localhost:8080/"
        },
        "id": "IK48RdDwp6l6",
        "outputId": "0ce15318-63fb-44cf-8398-e2c891b6fb7a"
      },
      "source": [
        "train.lang.value_counts()"
      ],
      "execution_count": 209,
      "outputs": [
        {
          "output_type": "execute_result",
          "data": {
            "text/plain": [
              "1    39362\n",
              "2    20045\n",
              "0        1\n",
              "Name: lang, dtype: int64"
            ]
          },
          "metadata": {
            "tags": []
          },
          "execution_count": 209
        }
      ]
    },
    {
      "cell_type": "code",
      "metadata": {
        "id": "FOAE28-Tp--i"
      },
      "source": [
        "train_ar = train[train['lang'] == 2]\r\n",
        "train_fr = train[train['lang'] == 1]"
      ],
      "execution_count": 210,
      "outputs": []
    },
    {
      "cell_type": "code",
      "metadata": {
        "id": "1Dab-UIIrWsv"
      },
      "source": [
        "test['lang'] = test['content'].apply(sep_lang)"
      ],
      "execution_count": 211,
      "outputs": []
    },
    {
      "cell_type": "code",
      "metadata": {
        "colab": {
          "base_uri": "https://localhost:8080/"
        },
        "id": "3ggAwNJMrbg8",
        "outputId": "0c0321ae-0275-4528-dd45-429d4512f42a"
      },
      "source": [
        "test.lang.value_counts()"
      ],
      "execution_count": 212,
      "outputs": [
        {
          "output_type": "execute_result",
          "data": {
            "text/plain": [
              "1    13138\n",
              "2     6665\n",
              "Name: lang, dtype: int64"
            ]
          },
          "metadata": {
            "tags": []
          },
          "execution_count": 212
        }
      ]
    },
    {
      "cell_type": "code",
      "metadata": {
        "id": "wU9Fjhl5rePg"
      },
      "source": [
        "test_ar = test[test['lang'] == 2]\r\n",
        "test_fr = test[test['lang'] == 1]"
      ],
      "execution_count": 213,
      "outputs": []
    },
    {
      "cell_type": "code",
      "metadata": {
        "id": "SSMefYpZsPuA"
      },
      "source": [
        "#cleaning_data "
      ],
      "execution_count": 172,
      "outputs": []
    },
    {
      "cell_type": "code",
      "metadata": {
        "id": "Uwq4mzjyLyZX"
      },
      "source": [
        ""
      ],
      "execution_count": null,
      "outputs": []
    },
    {
      "cell_type": "code",
      "metadata": {
        "id": "pBcn0BXuLyW2"
      },
      "source": [
        ""
      ],
      "execution_count": null,
      "outputs": []
    },
    {
      "cell_type": "code",
      "metadata": {
        "id": "xwp8k_ZhLyUN"
      },
      "source": [
        ""
      ],
      "execution_count": null,
      "outputs": []
    },
    {
      "cell_type": "code",
      "metadata": {
        "id": "migk-f2uLyRv"
      },
      "source": [
        ""
      ],
      "execution_count": null,
      "outputs": []
    },
    {
      "cell_type": "code",
      "metadata": {
        "id": "J1NkdmJFLyPP"
      },
      "source": [
        ""
      ],
      "execution_count": null,
      "outputs": []
    },
    {
      "cell_type": "code",
      "metadata": {
        "id": "nqSWd5qlLyKw"
      },
      "source": [
        ""
      ],
      "execution_count": null,
      "outputs": []
    },
    {
      "cell_type": "code",
      "metadata": {
        "id": "5Wvq-kyFLyGu"
      },
      "source": [
        ""
      ],
      "execution_count": null,
      "outputs": []
    },
    {
      "cell_type": "code",
      "metadata": {
        "id": "jKM3J59jwYQG"
      },
      "source": [
        "#train_fr"
      ],
      "execution_count": 173,
      "outputs": []
    },
    {
      "cell_type": "code",
      "metadata": {
        "id": "tT9KP6fWtLiG"
      },
      "source": [
        "fr_stop = 'alors au aucuns aussi autre avant avec avoir bon car ce cela ces ceux chaque ci comme comment dans des du dedans dehors depuis devrait doit donc dos début elle elles en encore essai est et eu fait faites fois font hors ici il ils je\tjuste la le les leur là ma maintenant mais mes mien moins mon mot même ni nommés notre nous ou où par parce pas peut peu plupart pour pourquoi quand que quel quelle quelles quels qui sa sans ses seulement si sien son sont sous soyez\tsujet sur ta tandis tellement tels tes ton tous tout trop très tu voient vont votre vous vu ça étaient état étions été être'.split()"
      ],
      "execution_count": 174,
      "outputs": []
    },
    {
      "cell_type": "code",
      "metadata": {
        "colab": {
          "base_uri": "https://localhost:8080/",
          "height": 343
        },
        "id": "dTIO1eXPtvRt",
        "outputId": "f5ffa83f-2291-4c60-e7dd-b93951a613f4"
      },
      "source": [
        "train_fr.head(10)"
      ],
      "execution_count": 175,
      "outputs": [
        {
          "output_type": "execute_result",
          "data": {
            "text/html": [
              "<div>\n",
              "<style scoped>\n",
              "    .dataframe tbody tr th:only-of-type {\n",
              "        vertical-align: middle;\n",
              "    }\n",
              "\n",
              "    .dataframe tbody tr th {\n",
              "        vertical-align: top;\n",
              "    }\n",
              "\n",
              "    .dataframe thead th {\n",
              "        text-align: right;\n",
              "    }\n",
              "</style>\n",
              "<table border=\"1\" class=\"dataframe\">\n",
              "  <thead>\n",
              "    <tr style=\"text-align: right;\">\n",
              "      <th></th>\n",
              "      <th>ID</th>\n",
              "      <th>content</th>\n",
              "      <th>score</th>\n",
              "      <th>len_text</th>\n",
              "      <th>lang</th>\n",
              "    </tr>\n",
              "  </thead>\n",
              "  <tbody>\n",
              "    <tr>\n",
              "      <th>0</th>\n",
              "      <td>65479</td>\n",
              "      <td>Revoyez vos prix ainsi que la lenteur ke prend...</td>\n",
              "      <td>0</td>\n",
              "      <td>68</td>\n",
              "      <td>1</td>\n",
              "    </tr>\n",
              "    <tr>\n",
              "      <th>3</th>\n",
              "      <td>58926</td>\n",
              "      <td>J arriver à temps et malheureusement je me  re...</td>\n",
              "      <td>1</td>\n",
              "      <td>166</td>\n",
              "      <td>1</td>\n",
              "    </tr>\n",
              "    <tr>\n",
              "      <th>4</th>\n",
              "      <td>17945</td>\n",
              "      <td>Je suis contente des services rendu par Jumia....</td>\n",
              "      <td>1</td>\n",
              "      <td>93</td>\n",
              "      <td>1</td>\n",
              "    </tr>\n",
              "    <tr>\n",
              "      <th>5</th>\n",
              "      <td>16619</td>\n",
              "      <td>Cest du merd</td>\n",
              "      <td>-1</td>\n",
              "      <td>12</td>\n",
              "      <td>1</td>\n",
              "    </tr>\n",
              "    <tr>\n",
              "      <th>6</th>\n",
              "      <td>20287</td>\n",
              "      <td>...i kit ouiiiii in Italia ju lik le Oui on se...</td>\n",
              "      <td>1</td>\n",
              "      <td>75</td>\n",
              "      <td>1</td>\n",
              "    </tr>\n",
              "    <tr>\n",
              "      <th>7</th>\n",
              "      <td>21687</td>\n",
              "      <td>Je rêve de recevoirs un cadeau venant de jumia...</td>\n",
              "      <td>1</td>\n",
              "      <td>66</td>\n",
              "      <td>1</td>\n",
              "    </tr>\n",
              "    <tr>\n",
              "      <th>8</th>\n",
              "      <td>138307</td>\n",
              "      <td>efficace mais lourde manipulation</td>\n",
              "      <td>0</td>\n",
              "      <td>33</td>\n",
              "      <td>1</td>\n",
              "    </tr>\n",
              "    <tr>\n",
              "      <th>9</th>\n",
              "      <td>28742</td>\n",
              "      <td>bian</td>\n",
              "      <td>1</td>\n",
              "      <td>4</td>\n",
              "      <td>1</td>\n",
              "    </tr>\n",
              "    <tr>\n",
              "      <th>10</th>\n",
              "      <td>66977</td>\n",
              "      <td>Réseau passable</td>\n",
              "      <td>0</td>\n",
              "      <td>15</td>\n",
              "      <td>1</td>\n",
              "    </tr>\n",
              "    <tr>\n",
              "      <th>11</th>\n",
              "      <td>72203</td>\n",
              "      <td>nais</td>\n",
              "      <td>1</td>\n",
              "      <td>4</td>\n",
              "      <td>1</td>\n",
              "    </tr>\n",
              "  </tbody>\n",
              "</table>\n",
              "</div>"
            ],
            "text/plain": [
              "        ID                                            content  ...  len_text  lang\n",
              "0    65479  Revoyez vos prix ainsi que la lenteur ke prend...  ...        68     1\n",
              "3    58926  J arriver à temps et malheureusement je me  re...  ...       166     1\n",
              "4    17945  Je suis contente des services rendu par Jumia....  ...        93     1\n",
              "5    16619                                       Cest du merd  ...        12     1\n",
              "6    20287  ...i kit ouiiiii in Italia ju lik le Oui on se...  ...        75     1\n",
              "7    21687  Je rêve de recevoirs un cadeau venant de jumia...  ...        66     1\n",
              "8   138307                  efficace mais lourde manipulation  ...        33     1\n",
              "9    28742                                               bian  ...         4     1\n",
              "10   66977                                    Réseau passable  ...        15     1\n",
              "11   72203                                               nais  ...         4     1\n",
              "\n",
              "[10 rows x 5 columns]"
            ]
          },
          "metadata": {
            "tags": []
          },
          "execution_count": 175
        }
      ]
    },
    {
      "cell_type": "code",
      "metadata": {
        "id": "1n9naoRUwMA0"
      },
      "source": [
        "from nltk.stem.snowball import FrenchStemmer\r\n",
        "stemmer = FrenchStemmer()\r\n",
        "\r\n",
        "message = []\r\n",
        "\r\n",
        "for i in range(0, train_fr.shape[0]):\r\n",
        "    review = re.sub('[^a-zA-Z]', ' ', train_fr['content'].iloc[i])\r\n",
        "    #convertir tous minuscule\r\n",
        "    review = review.lower()\r\n",
        "    #splitter chaque ligne\r\n",
        "    review = review.split()\r\n",
        "    #\r\n",
        "    review = [stemmer.stem(word) for word in review if not word in fr_stop]\r\n",
        "    #construire de nouveau la ligne\r\n",
        "    review = ' '.join(review)\r\n",
        "    message.append(review)"
      ],
      "execution_count": 176,
      "outputs": []
    },
    {
      "cell_type": "code",
      "metadata": {
        "id": "OmUq7ukSwkdU"
      },
      "source": [
        "from sklearn.feature_extraction.text import CountVectorizer\r\n",
        "cv = CountVectorizer(max_features=5000)\r\n",
        "Xtrain_fr = cv.fit_transform(message).toarray()"
      ],
      "execution_count": 177,
      "outputs": []
    },
    {
      "cell_type": "code",
      "metadata": {
        "id": "FbYZl_HDzNz3"
      },
      "source": [
        "stemmer1 = FrenchStemmer()\r\n",
        "\r\n",
        "message1 = []\r\n",
        "\r\n",
        "for i in range(0, test_fr.shape[0]):\r\n",
        "    review1 = re.sub('[^a-zA-Z]', ' ', test_fr['content'].iloc[i])\r\n",
        "    #convertir tous minuscule\r\n",
        "    review1 = review1.lower()\r\n",
        "    #splitter chaque ligne\r\n",
        "    review1 = review1.split()\r\n",
        "    #\r\n",
        "    review1 = [stemmer1.stem(word) for word in review1 if not word in fr_stop]\r\n",
        "    #construire de nouveau la ligne\r\n",
        "    review1 = ' '.join(review1)\r\n",
        "    message1.append(review1)"
      ],
      "execution_count": 178,
      "outputs": []
    },
    {
      "cell_type": "code",
      "metadata": {
        "id": "-Ei1rnVI0shx"
      },
      "source": [
        "cv1 = CountVectorizer(max_features=5000)\r\n",
        "Xtest_fr = cv1.fit_transform(message1).toarray()"
      ],
      "execution_count": 179,
      "outputs": []
    },
    {
      "cell_type": "code",
      "metadata": {
        "id": "gvOZy9hI06-6"
      },
      "source": [
        "ar_stop = '، ء ءَ آ آب آذار آض آل آمينَ آناء آنفا آه آهاً آهٍ آهِ أ أبدا أبريل أبو أبٌ أجل أجمع أحد أخبر أخذ أخو أخٌ أربع أربعاء أربعة أربعمئة أربعمائة أرى أسكن أصبح أصلا أضحى أطعم أعطى أعلم أغسطس أفريل أفعل به أفٍّ أقبل أكتوبر أل ألا ألف ألفى أم أما أمام أمامك أمامكَ أمد أمس أمسى أمّا أن أنا أنبأ أنت أنتم أنتما أنتن أنتِ أنشأ أنه أنًّ أنّى أهلا أو أوت أوشك أول أولئك أولاء أولالك أوّهْ أى أي أيا أيار أيضا أيلول أين أيّ أيّان أُفٍّ ؤ إحدى إذ إذا إذاً إذما إذن إزاء إلى إلي إليكم إليكما إليكنّ إليكَ إلَيْكَ إلّا إمّا إن إنَّ إى إياك إياكم إياكما إياكن إيانا إياه إياها إياهم إياهما إياهن إياي إيهٍ ئ ا ا? ا?ى االا االتى ابتدأ ابين اتخذ اثر اثنا اثنان اثني اثنين اجل احد اخرى اخلولق اذا اربعة اربعون اربعين ارتدّ استحال اصبح اضحى اطار اعادة اعلنت اف اكثر اكد الآن الألاء الألى الا الاخيرة الان الاول الاولى التى التي الثاني الثانية الحالي الذاتي الذى الذي الذين السابق الف اللاتي اللتان اللتيا اللتين اللذان اللذين اللواتي الماضي المقبل الوقت الى الي اليه اليها اليوم اما امام امس امسى ان انبرى انقلب انه انها او اول اي ايار ايام ايضا ب بؤسا بإن بئس باء بات باسم بان بخٍ بد بدلا برس بسبب بسّ بشكل بضع بطآن بعد بعدا بعض بغتة بل بلى بن به بها بهذا بيد بين بَسْ بَلْهَ ة ت تاء تارة تاسع تانِ تانِك تبدّل تجاه تحت تحوّل تخذ ترك تسع تسعة تسعمئة تسعمائة تسعون تسعين تشرين تعسا تعلَّم تفعلان تفعلون تفعلين تكون تلقاء تلك تم تموز تينك تَيْنِ تِه تِي ث ثاء ثالث ثامن ثان ثاني ثلاث ثلاثاء ثلاثة ثلاثمئة ثلاثمائة ثلاثون ثلاثين ثم ثمان ثمانمئة ثمانون ثماني ثمانية ثمانين ثمنمئة ثمَّ ثمّ ثمّة ج جانفي جدا جعل جلل جمعة جميع جنيه جوان جويلية جير جيم ح حاء حادي حار حاشا حاليا حاي حبذا حبيب حتى حجا حدَث حرى حزيران حسب حقا حمدا حمو حمٌ حوالى حول حيث حيثما حين حيَّ حَذارِ خ خاء خاصة خال خامس خبَّر خلا خلافا خلال خلف خمس خمسة خمسمئة خمسمائة خمسون خمسين خميس د دال درهم درى دواليك دولار دون دونك ديسمبر دينار ذ ذا ذات ذاك ذال ذانك ذانِ ذلك ذهب ذو ذيت ذينك ذَيْنِ ذِه ذِي ر رأى راء رابع راح رجع رزق رويدك ريال ريث رُبَّ ز زاي زعم زود زيارة س ساء سابع سادس سبت سبتمبر سبحان سبع سبعة سبعمئة سبعمائة سبعون سبعين ست ستة ستكون ستمئة ستمائة ستون ستين سحقا سرا سرعان سقى سمعا سنة سنتيم سنوات سوف سوى سين ش شباط شبه شتانَ شخصا شرع شمال شيكل شين شَتَّانَ ص صاد صار صباح صبر صبرا صدقا صراحة صفر صهٍ صهْ ض ضاد ضحوة ضد ضمن ط طاء طاق طالما طرا طفق طَق ظ ظاء ظل ظلّ ظنَّ ع عاد عاشر عام عاما عامة عجبا عدا عدة عدد عدم عدَّ عسى عشر عشرة عشرون عشرين عل علق علم على علي عليك عليه عليها علًّ عن عند عندما عنه عنها عوض عيانا عين عَدَسْ غ غادر غالبا غدا غداة غير غين ـ ف فإن فاء فان فانه فبراير فرادى فضلا فقد فقط فكان فلان فلس فهو فو فوق فى في فيفري فيه فيها ق قاطبة قاف قال قام قبل قد قرش قطّ قلما قوة ك كأن كأنّ كأيّ كأيّن كاد كاف كان كانت كانون كثيرا كذا كذلك كرب كسا كل كلتا كلم كلَّا كلّما كم كما كن كى كيت كيف كيفما كِخ ل لأن لا لا سيما لات لازال لاسيما لام لايزال لبيك لدن لدى لدي لذلك لعل لعلَّ لعمر لقاء لكن لكنه لكنَّ للامم لم لما لمّا لن له لها لهذا لهم لو لوكالة لولا لوما ليت ليرة ليس ليسب م مئة مئتان ما ما أفعله ما انفك ما برح مائة ماانفك مابرح مادام ماذا مارس مازال مافتئ ماي مايزال مايو متى مثل مذ مرّة مساء مع معاذ معه مقابل مكانكم مكانكما مكانكنّ مكانَك مليار مليم مليون مما من منذ منه منها مه مهما ميم ن نا نبَّا نحن نحو نعم نفس نفسه نهاية نوفمبر نون نيسان نيف نَخْ نَّ ه هؤلاء ها هاء هاكَ هبّ هذا هذه هل هللة هلم هلّا هم هما همزة هن هنا هناك هنالك هو هي هيا هيهات هيّا هَؤلاء هَاتانِ هَاتَيْنِ هَاتِه هَاتِي هَجْ هَذا هَذانِ هَذَيْنِ هَذِه هَذِي هَيْهات و و6 وأبو وأن وا واحد واضاف واضافت واكد والتي والذي وان واهاً واو واوضح وبين وثي وجد وراءَك ورد وعلى وفي وقال وقالت وقد وقف وكان وكانت ولا ولايزال ولكن ولم وله وليس ومع ومن وهب وهذا وهو وهي وَيْ وُشْكَانَ ى ي ياء يفعلان يفعلون يكون يلي يمكن يمين ين يناير يوان يورو يوليو يوم يونيو ّأيّان'.split()"
      ],
      "execution_count": 180,
      "outputs": []
    },
    {
      "cell_type": "code",
      "metadata": {
        "id": "AuciuUsZ3pni"
      },
      "source": [
        "import nltk\r\n",
        "from nltk.stem.isri import ISRIStemmer\r\n",
        "st = ISRIStemmer()\r\n",
        "\r\n",
        "message3 = []\r\n",
        "\r\n",
        "for i in range(0, train_ar.shape[0]):\r\n",
        "    review3 = re.sub('[^a-zA-Z]', ' ', train_ar['content'].iloc[i])\r\n",
        "    #splitter chaque ligne\r\n",
        "    review3 = review3.split()\r\n",
        "    #\r\n",
        "    review3 = [st.stem(word) for word in review3 if not word in ar_stop]\r\n",
        "    #construire de nouveau la ligne\r\n",
        "    review3 = ' '.join(review3)\r\n",
        "    message3.append(review3)"
      ],
      "execution_count": 181,
      "outputs": []
    },
    {
      "cell_type": "code",
      "metadata": {
        "id": "yo2RzwUP5Piy"
      },
      "source": [
        "cv3 = CountVectorizer(max_features=5000)\r\n",
        "Xtrain_ar = cv3.fit_transform(message3).toarray()"
      ],
      "execution_count": 182,
      "outputs": []
    },
    {
      "cell_type": "code",
      "metadata": {
        "id": "Vym355X343Aj"
      },
      "source": [
        "st4 = ISRIStemmer()\r\n",
        "\r\n",
        "message4 = []\r\n",
        "\r\n",
        "for i in range(0, test_ar.shape[0]):\r\n",
        "    review4 = re.sub('[^a-zA-Z]', ' ', test_ar['content'].iloc[i])\r\n",
        "    #splitter chaque ligne\r\n",
        "    review4 = review4.split()\r\n",
        "    #\r\n",
        "    review4 = [st4.stem(word) for word in review4 if not word in ar_stop]\r\n",
        "    #construire de nouveau la ligne\r\n",
        "    review4 = ' '.join(review4)\r\n",
        "    message4.append(review4)"
      ],
      "execution_count": 183,
      "outputs": []
    },
    {
      "cell_type": "code",
      "metadata": {
        "id": "xEAT6PP35c6c"
      },
      "source": [
        "cv4 = CountVectorizer(max_features=5000)\r\n",
        "Xtest_ar = cv4.fit_transform(message4).toarray()"
      ],
      "execution_count": 184,
      "outputs": []
    },
    {
      "cell_type": "code",
      "metadata": {
        "id": "3kGSmJNO5k9D"
      },
      "source": [
        "Ytrain_fr = np.array(train_fr.score)\r\n",
        "Ytrain_ar = np.array(train_ar.score)"
      ],
      "execution_count": 185,
      "outputs": []
    },
    {
      "cell_type": "code",
      "metadata": {
        "id": "4p3NyKnnANd-"
      },
      "source": [
        "from sklearn.model_selection import train_test_split\r\n",
        "x_train1,x_test1,y_train1,y_test1 = train_test_split(Xtrain_fr,Ytrain_fr,test_size=0.2,random_state=42)"
      ],
      "execution_count": 186,
      "outputs": []
    },
    {
      "cell_type": "code",
      "metadata": {
        "colab": {
          "base_uri": "https://localhost:8080/"
        },
        "id": "3uNwxgQE62fK",
        "outputId": "d5752e0a-4d02-4c53-d94b-5ff76cdac208"
      },
      "source": [
        "from sklearn.ensemble import RandomForestClassifier\r\n",
        "rfc = RandomForestClassifier(n_estimators=100,criterion='entropy',random_state=42)\r\n",
        "rfc.fit(x_train1,y_train1)"
      ],
      "execution_count": 187,
      "outputs": [
        {
          "output_type": "execute_result",
          "data": {
            "text/plain": [
              "RandomForestClassifier(bootstrap=True, ccp_alpha=0.0, class_weight=None,\n",
              "                       criterion='entropy', max_depth=None, max_features='auto',\n",
              "                       max_leaf_nodes=None, max_samples=None,\n",
              "                       min_impurity_decrease=0.0, min_impurity_split=None,\n",
              "                       min_samples_leaf=1, min_samples_split=2,\n",
              "                       min_weight_fraction_leaf=0.0, n_estimators=100,\n",
              "                       n_jobs=None, oob_score=False, random_state=42, verbose=0,\n",
              "                       warm_start=False)"
            ]
          },
          "metadata": {
            "tags": []
          },
          "execution_count": 187
        }
      ]
    },
    {
      "cell_type": "code",
      "metadata": {
        "colab": {
          "base_uri": "https://localhost:8080/"
        },
        "id": "7pTdESMT7FF2",
        "outputId": "2926d14d-89e6-4ff9-cb8a-d955ff5989c2"
      },
      "source": [
        "y_pred1 = rfc.predict(x_test1)\r\n",
        "from sklearn.metrics import accuracy_score\r\n",
        "accuracy_score(y_test1,y_pred1)"
      ],
      "execution_count": 188,
      "outputs": [
        {
          "output_type": "execute_result",
          "data": {
            "text/plain": [
              "0.7852152927727677"
            ]
          },
          "metadata": {
            "tags": []
          },
          "execution_count": 188
        }
      ]
    },
    {
      "cell_type": "code",
      "metadata": {
        "id": "tjT_p2ac8jC4"
      },
      "source": [
        "x_train2,x_test2,y_train2,y_test2 = train_test_split(Xtrain_ar,Ytrain_ar,test_size=0.2,random_state=42)"
      ],
      "execution_count": 189,
      "outputs": []
    },
    {
      "cell_type": "code",
      "metadata": {
        "colab": {
          "base_uri": "https://localhost:8080/"
        },
        "id": "QS2OpSaf80z4",
        "outputId": "892e33f8-1b61-49f0-9c71-f53216d2fe36"
      },
      "source": [
        "rfc2 = RandomForestClassifier(n_estimators=200,criterion='entropy',random_state=42)\r\n",
        "rfc2.fit(x_train2,y_train2)"
      ],
      "execution_count": 190,
      "outputs": [
        {
          "output_type": "execute_result",
          "data": {
            "text/plain": [
              "RandomForestClassifier(bootstrap=True, ccp_alpha=0.0, class_weight=None,\n",
              "                       criterion='entropy', max_depth=None, max_features='auto',\n",
              "                       max_leaf_nodes=None, max_samples=None,\n",
              "                       min_impurity_decrease=0.0, min_impurity_split=None,\n",
              "                       min_samples_leaf=1, min_samples_split=2,\n",
              "                       min_weight_fraction_leaf=0.0, n_estimators=200,\n",
              "                       n_jobs=None, oob_score=False, random_state=42, verbose=0,\n",
              "                       warm_start=False)"
            ]
          },
          "metadata": {
            "tags": []
          },
          "execution_count": 190
        }
      ]
    },
    {
      "cell_type": "code",
      "metadata": {
        "colab": {
          "base_uri": "https://localhost:8080/"
        },
        "id": "Cb382wI788n8",
        "outputId": "f9fdcedf-1424-489a-b9c0-40add001a51e"
      },
      "source": [
        "y_pred2 = rfc2.predict(x_test2)\r\n",
        "from sklearn.metrics import accuracy_score\r\n",
        "accuracy_score(y_test2,y_pred2)"
      ],
      "execution_count": 191,
      "outputs": [
        {
          "output_type": "execute_result",
          "data": {
            "text/plain": [
              "0.6462958343726615"
            ]
          },
          "metadata": {
            "tags": []
          },
          "execution_count": 191
        }
      ]
    },
    {
      "cell_type": "code",
      "metadata": {
        "colab": {
          "base_uri": "https://localhost:8080/",
          "height": 195
        },
        "id": "jDkqWMhd9Tbu",
        "outputId": "fcd451ac-157e-4901-fca5-eb2fbd935361"
      },
      "source": [
        "test_ar.head()"
      ],
      "execution_count": 192,
      "outputs": [
        {
          "output_type": "execute_result",
          "data": {
            "text/html": [
              "<div>\n",
              "<style scoped>\n",
              "    .dataframe tbody tr th:only-of-type {\n",
              "        vertical-align: middle;\n",
              "    }\n",
              "\n",
              "    .dataframe tbody tr th {\n",
              "        vertical-align: top;\n",
              "    }\n",
              "\n",
              "    .dataframe thead th {\n",
              "        text-align: right;\n",
              "    }\n",
              "</style>\n",
              "<table border=\"1\" class=\"dataframe\">\n",
              "  <thead>\n",
              "    <tr style=\"text-align: right;\">\n",
              "      <th></th>\n",
              "      <th>ID</th>\n",
              "      <th>content</th>\n",
              "      <th>lang</th>\n",
              "    </tr>\n",
              "  </thead>\n",
              "  <tbody>\n",
              "    <tr>\n",
              "      <th>28</th>\n",
              "      <td>108</td>\n",
              "      <td>ربى معاكم jai installer lapplication plusieurs...</td>\n",
              "      <td>2</td>\n",
              "    </tr>\n",
              "    <tr>\n",
              "      <th>161</th>\n",
              "      <td>602</td>\n",
              "      <td>يا حسرة على طيارة ولات رزينة ومنسية في التحديث...</td>\n",
              "      <td>2</td>\n",
              "    </tr>\n",
              "    <tr>\n",
              "      <th>162</th>\n",
              "      <td>603</td>\n",
              "      <td>برشا pubs و رزينا برشا  اعملو مجهود و حسنو فيه...</td>\n",
              "      <td>2</td>\n",
              "    </tr>\n",
              "    <tr>\n",
              "      <th>163</th>\n",
              "      <td>609</td>\n",
              "      <td>علاش chat ما يتحلش</td>\n",
              "      <td>2</td>\n",
              "    </tr>\n",
              "    <tr>\n",
              "      <th>167</th>\n",
              "      <td>616</td>\n",
              "      <td>ممتاز</td>\n",
              "      <td>2</td>\n",
              "    </tr>\n",
              "  </tbody>\n",
              "</table>\n",
              "</div>"
            ],
            "text/plain": [
              "      ID                                            content  lang\n",
              "28   108  ربى معاكم jai installer lapplication plusieurs...     2\n",
              "161  602  يا حسرة على طيارة ولات رزينة ومنسية في التحديث...     2\n",
              "162  603  برشا pubs و رزينا برشا  اعملو مجهود و حسنو فيه...     2\n",
              "163  609                                 علاش chat ما يتحلش     2\n",
              "167  616                                              ممتاز     2"
            ]
          },
          "metadata": {
            "tags": []
          },
          "execution_count": 192
        }
      ]
    },
    {
      "cell_type": "code",
      "metadata": {
        "colab": {
          "base_uri": "https://localhost:8080/",
          "height": 195
        },
        "id": "PGlJ8ICa-o0x",
        "outputId": "7c3cdc05-e157-49cc-833c-468ff83f0b7a"
      },
      "source": [
        "test_fr.head()"
      ],
      "execution_count": 193,
      "outputs": [
        {
          "output_type": "execute_result",
          "data": {
            "text/html": [
              "<div>\n",
              "<style scoped>\n",
              "    .dataframe tbody tr th:only-of-type {\n",
              "        vertical-align: middle;\n",
              "    }\n",
              "\n",
              "    .dataframe tbody tr th {\n",
              "        vertical-align: top;\n",
              "    }\n",
              "\n",
              "    .dataframe thead th {\n",
              "        text-align: right;\n",
              "    }\n",
              "</style>\n",
              "<table border=\"1\" class=\"dataframe\">\n",
              "  <thead>\n",
              "    <tr style=\"text-align: right;\">\n",
              "      <th></th>\n",
              "      <th>ID</th>\n",
              "      <th>content</th>\n",
              "      <th>lang</th>\n",
              "    </tr>\n",
              "  </thead>\n",
              "  <tbody>\n",
              "    <tr>\n",
              "      <th>0</th>\n",
              "      <td>2</td>\n",
              "      <td>Beaucoup de défauts se bloque toujours et pas ...</td>\n",
              "      <td>1</td>\n",
              "    </tr>\n",
              "    <tr>\n",
              "      <th>1</th>\n",
              "      <td>8</td>\n",
              "      <td>Application trés lente Le smartphone chauffe e...</td>\n",
              "      <td>1</td>\n",
              "    </tr>\n",
              "    <tr>\n",
              "      <th>2</th>\n",
              "      <td>10</td>\n",
              "      <td>Toujours des erreurs surtout lorsquil faut ent...</td>\n",
              "      <td>1</td>\n",
              "    </tr>\n",
              "    <tr>\n",
              "      <th>3</th>\n",
              "      <td>12</td>\n",
              "      <td>La durée pour la publication dune annonce dépa...</td>\n",
              "      <td>1</td>\n",
              "    </tr>\n",
              "    <tr>\n",
              "      <th>4</th>\n",
              "      <td>13</td>\n",
              "      <td>Lapplication plante très souvent peu de temps ...</td>\n",
              "      <td>1</td>\n",
              "    </tr>\n",
              "  </tbody>\n",
              "</table>\n",
              "</div>"
            ],
            "text/plain": [
              "   ID                                            content  lang\n",
              "0   2  Beaucoup de défauts se bloque toujours et pas ...     1\n",
              "1   8  Application trés lente Le smartphone chauffe e...     1\n",
              "2  10  Toujours des erreurs surtout lorsquil faut ent...     1\n",
              "3  12  La durée pour la publication dune annonce dépa...     1\n",
              "4  13  Lapplication plante très souvent peu de temps ...     1"
            ]
          },
          "metadata": {
            "tags": []
          },
          "execution_count": 193
        }
      ]
    },
    {
      "cell_type": "code",
      "metadata": {
        "id": "YJdm54I7C4Uh"
      },
      "source": [
        "test_iffr = test_fr.ID\r\n",
        "test_idar = test_ar.ID"
      ],
      "execution_count": 194,
      "outputs": []
    },
    {
      "cell_type": "code",
      "metadata": {
        "id": "NPn3INxu-y26"
      },
      "source": [
        "Ypred_fr = rfc.predict(Xtest_fr)\r\n",
        "Ypred_ar = rfc2.predict(Xtest_ar)"
      ],
      "execution_count": null,
      "outputs": []
    },
    {
      "cell_type": "code",
      "metadata": {
        "id": "nR12o-yLCEYS"
      },
      "source": [
        ""
      ],
      "execution_count": null,
      "outputs": []
    },
    {
      "cell_type": "code",
      "metadata": {
        "id": "C7fZOeCHCEVF"
      },
      "source": [
        ""
      ],
      "execution_count": null,
      "outputs": []
    }
  ]
}